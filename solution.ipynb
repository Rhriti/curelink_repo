{
 "cells": [
  {
   "cell_type": "code",
   "execution_count": 1,
   "metadata": {},
   "outputs": [],
   "source": [
    "import os\n",
    "from mistralai.client import MistralClient"
   ]
  },
  {
   "cell_type": "code",
   "execution_count": 2,
   "metadata": {},
   "outputs": [],
   "source": [
    "api_key=os.environ.get('curelink')\n",
    "client=MistralClient(api_key=api_key)"
   ]
  },
  {
   "cell_type": "code",
   "execution_count": 3,
   "metadata": {},
   "outputs": [],
   "source": [
    "import requests,json\n",
    "url='https://clchatagentassessment.s3.ap-south-1.amazonaws.com/queries.json'\n",
    "response=requests.get(url)\n",
    "chat_array=response.json()\n",
    "# with open('chat', 'w') as f:"
   ]
  },
  {
   "cell_type": "markdown",
   "metadata": {},
   "source": [
    "Make diet_chart more comprhensive,for better reponse time and cost "
   ]
  },
  {
   "cell_type": "code",
   "execution_count": 4,
   "metadata": {},
   "outputs": [],
   "source": [
    "fdays=[None,'Friday','Saturday','Sunday','Monday','Tuesday','Wednesday','Thrusday']\n",
    "def extract_meal_plan(diet_chart):\n",
    "    meal_plan = {}\n",
    "    \n",
    "    for day_data in diet_chart['meals_by_days']:\n",
    "        day_order = day_data['order']\n",
    "        day_meals = []\n",
    "        \n",
    "        for meal in day_data['meals']:\n",
    "            meal_info = {\n",
    "                'name': meal['name'],\n",
    "                'order': meal['order'],\n",
    "                'timings': meal['timings'],\n",
    "                'food_items': []\n",
    "            }\n",
    "            \n",
    "            for option in meal['meal_options']:\n",
    "                food_items = [\n",
    "                    item['Food']['name']\n",
    "                    \n",
    "                    for item in option['meal_option_food_items']\n",
    "                ]\n",
    "                \n",
    "                meal_info['food_items'].append(food_items)\n",
    "            \n",
    "            day_meals.append(meal_info)\n",
    "        \n",
    "        meal_plan[f'{fdays[day_order]}'] = sorted(day_meals, key=lambda x: x['order'])\n",
    "    \n",
    "    return meal_plan\n",
    "\n",
    "# Usage\n",
    "final_data=[]\n",
    "for i in range(len(chat_array)):\n",
    "    diet_chart = chat_array[i]['profile_context']['diet_chart']  # Assuming chat_array is your list of patient data\n",
    "    meal_plan = extract_meal_plan(diet_chart)\n",
    "    meal_plan['program_name']=chat_array[0]['profile_context']['program_name']\n",
    "    final_data.append(meal_plan)\n",
    "\n"
   ]
  },
  {
   "cell_type": "markdown",
   "metadata": {},
   "source": [
    "Let's try ZERO SHOT"
   ]
  },
  {
   "cell_type": "code",
   "execution_count": 66,
   "metadata": {},
   "outputs": [],
   "source": [
    "collective_response=[]\n",
    "from datetime import datetime\n",
    "model='mistral-large-latest'\n",
    "def get_day_of_week(date_string):\n",
    "    date_object = datetime.strptime(date_string, \"%B %d, %Y, %I:%M %p\")\n",
    "    day_number = date_object.weekday()\n",
    "    days = ['Monday', 'Tuesday', 'Wednesday', 'Thursday', 'Friday', 'Saturday', 'Sunday'] \n",
    "    return days[day_number]"
   ]
  },
  {
   "cell_type": "code",
   "execution_count": 67,
   "metadata": {},
   "outputs": [],
   "source": [
    "for i in range(len(chat_array)):\n",
    "    ele=chat_array[0]\n",
    "    date_string = ele['chat_context']['ticket_created']\n",
    "    day = get_day_of_week(date_string)\n",
    "    relevant_food_plan=final_data[0][day]\n",
    "    \n",
    "    prompt = f\"the chat history: {ele['chat_context']['chat_history']} \\n.The diet plan {relevant_food_plan}. \\n  \"\n",
    "    stream_response = client.chat(\n",
    "        model = model,\n",
    "        messages = [\n",
    "            {\n",
    "                \n",
    "        \"role\": \"system\",\n",
    "        \"content\": \"\"\"You will be given recent chat between a patient and his dietician along with food chart for the day.If the person eats an hour before or after the scheduled time,its alright.\n",
    "        If the person misses a food item to eat or if a person eats a different food or any extra food item (anytime in the day) ask him the reason .\n",
    "        only if the person eats what is prescribed, appreciate him and tell him the benefits of the food item in just 1 sentence.If the person asks query in Romanized Hindi respond in Romanized Hindi as well.\n",
    "        \"\"\"\n",
    "            },\n",
    "            {\n",
    "                \"role\":\"user\",\n",
    "                \"content\": prompt\n",
    "            \n",
    "            },\n",
    "            # {\n",
    "            #     \"role\":\"assistant\",\n",
    "            #     \"content\":\"Great job on having your soaked methi seeds water! Methi seeds are excellent for managing blood sugar levels.I noticed you had a variety of dry fruits including almonds and walnuts. Could you tell me the reason for having these additional items?\"\n",
    "            # },\n",
    "            # {\n",
    "            #     \"role\":\"user\",\"content\": \" why didn't you ask him as to why did he consume fig and raisin if not presribed, mention the additional items \"\n",
    "            # }\n",
    "        ]\n",
    "        )\n",
    "\n",
    "    collective_response.append({\n",
    "        'ideal_reponse':f'{ele[\"ideal_response\"]}', 'ticket_id':f'{ele[\"chat_context\"][\"ticket_id\"]}','latest_query':f'{ele[\"latest_query\"]}','generated_response': f'{stream_response.choices[0].message.content}'})\n"
   ]
  },
  {
   "cell_type": "code",
   "execution_count": 68,
   "metadata": {},
   "outputs": [],
   "source": [
    "with open('my_json.json', 'w', encoding='utf-8') as f:\n",
    "    json.dump(collective_response, f, ensure_ascii=False, indent=4)"
   ]
  },
  {
   "cell_type": "markdown",
   "metadata": {},
   "source": [
    "I think lot of brainstroming and new and fresh perspective is needed"
   ]
  }
 ],
 "metadata": {
  "kernelspec": {
   "display_name": "Python 3",
   "language": "python",
   "name": "python3"
  },
  "language_info": {
   "codemirror_mode": {
    "name": "ipython",
    "version": 3
   },
   "file_extension": ".py",
   "mimetype": "text/x-python",
   "name": "python",
   "nbconvert_exporter": "python",
   "pygments_lexer": "ipython3",
   "version": "3.11.3"
  }
 },
 "nbformat": 4,
 "nbformat_minor": 2
}
